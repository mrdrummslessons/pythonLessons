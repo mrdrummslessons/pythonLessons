{
 "cells": [
  {
   "cell_type": "markdown",
   "metadata": {},
   "source": [
    "# Miles Per Gallon Labs    "
   ]
  },
  {
   "cell_type": "markdown",
   "metadata": {},
   "source": [
    "#### MPG Lab 1\n",
    "    - Set up\n",
    "    - Comments\n",
    "    - Welcome / Title Message\n",
    "    - User Input (x2)\n",
    "    - Calculations\n",
    "    - Display Results\n",
    "    - Solution\n",
    "    \n"
   ]
  },
  {
   "cell_type": "markdown",
   "metadata": {},
   "source": [
    "#### MPG Lab 2 \n",
    "    - Set up\n",
    "    - Comments\n",
    "    - Welcome / Title Message\n",
    "    - User Input (x3)\n",
    "    - Create function for calculations\n",
    "    - call Calculation function\n",
    "    - Display Results\n",
    "    - Solution"
   ]
  },
  {
   "cell_type": "markdown",
   "metadata": {},
   "source": [
    "#### MPG Lab 3 \n",
    "    - Set up - Update \n",
    "    - Comments - Update\n",
    "    - Welcome / Title Message - Update\n",
    "    - User Input (x4) \n",
    "        - Miles Driven\n",
    "        - Gallons Used\n",
    "        - Cost per Gallon\n",
    "        - Destination Time\n",
    "    - Create function for three (3) calculations\n",
    "            - MilesPerGallon()\n",
    "                - MPG = Miles Driven / Gallons Used\n",
    "                - Round MPG to 2 decimal places\n",
    "            - TotalCost()\n",
    "                - totalCost = Gallons Used * Cost Per Gallon\n",
    "            - CostPerMile()\n",
    "                - costPerMile = totalCost / Miles Driven\n",
    "    - User Input function and Exception Handling \n",
    "    - Call Calculation functions\n",
    "    - Display Results\n",
    "\n",
    "    - Solution"
   ]
  },
  {
   "cell_type": "markdown",
   "metadata": {},
   "source": [
    "<hr>"
   ]
  },
  {
   "cell_type": "markdown",
   "metadata": {},
   "source": [
    "# MPG Lab 1"
   ]
  },
  {
   "cell_type": "markdown",
   "metadata": {},
   "source": [
    "#### Objectives:  \n",
    "\n",
    " - Setup new repl\n",
    " - Include proper documentation comments.\n",
    " - print welcome message to console user explaining the app\n",
    " - User input (miles driven and gallons used)\n",
    " - Calculations \n",
    "     - MPG = Miles Driven / Gallons Used\n",
    "     - Round MPG to 2 decimal places\n",
    " - display results\n"
   ]
  },
  {
   "cell_type": "markdown",
   "metadata": {},
   "source": [
    "## Set up\n",
    "\n",
    "In order to complete this lab assignment, please use a new repl.  Make sure you name it correctly, this makes it easier for me to locate after you share it with me."
   ]
  },
  {
   "cell_type": "code",
   "execution_count": null,
   "metadata": {},
   "outputs": [],
   "source": [
    "# Set up:  \n",
    "#          - Create a NEW repl\n",
    "#\n",
    "#          - NAME the repl: yourLastNameMPG1\n",
    "#\n",
    "#          - SHARE your repl is shared with instructor"
   ]
  },
  {
   "cell_type": "markdown",
   "metadata": {},
   "source": [
    "<hr>"
   ]
  },
  {
   "cell_type": "markdown",
   "metadata": {},
   "source": [
    "## Comments"
   ]
  },
  {
   "cell_type": "markdown",
   "metadata": {},
   "source": [
    "#### Comments: Starting at line 1.   Add comments to give basic information about your app.  Include the following information:\n",
    "\n",
    "- Name\n",
    "- Date\n",
    "- Description"
   ]
  },
  {
   "cell_type": "code",
   "execution_count": null,
   "metadata": {},
   "outputs": [],
   "source": [
    "##################################\n",
    "##                              ##\n",
    "##  Ernie Drumm, 9/1/2020       ##\n",
    "##                              ##\n",
    "##################################\n",
    "\n",
    "# Description:  This app ....\n"
   ]
  },
  {
   "cell_type": "markdown",
   "metadata": {},
   "source": [
    "<hr>"
   ]
  },
  {
   "cell_type": "markdown",
   "metadata": {},
   "source": [
    "## Welcome / Title Message"
   ]
  },
  {
   "cell_type": "markdown",
   "metadata": {},
   "source": [
    "#### Create a welcome message for the user.  This helps the user understand what the app is all about. "
   ]
  },
  {
   "cell_type": "code",
   "execution_count": null,
   "metadata": {},
   "outputs": [],
   "source": [
    "print(\"\\nWelcome to my Miles Per Gallon Receipt App\\n\")\n",
    "print(\"This receipt app will ask for miles driven and gallons used\")\n",
    "print(\"Then calculate the miles per gallon\\n\")\n",
    "print(\"At the end, the app will print the receipt results\")"
   ]
  },
  {
   "cell_type": "markdown",
   "metadata": {},
   "source": [
    "<hr>"
   ]
  },
  {
   "cell_type": "markdown",
   "metadata": {},
   "source": [
    "## User Input"
   ]
  },
  {
   "cell_type": "markdown",
   "metadata": {},
   "source": [
    "#### Get two (2) pieces of input from the user. \n",
    "\n",
    "- Miles Driven\n",
    "- Gallons Used"
   ]
  },
  {
   "cell_type": "code",
   "execution_count": null,
   "metadata": {},
   "outputs": [],
   "source": [
    "usrMilesDriven = input(\"How many miles did you drive? \")\n",
    "usrGallons_Used = input(\"How many gallons were used? \")"
   ]
  },
  {
   "cell_type": "markdown",
   "metadata": {},
   "source": [
    "<hr>"
   ]
  },
  {
   "cell_type": "markdown",
   "metadata": {},
   "source": [
    "## Calculations\n",
    "\n",
    "Miles per gallon is calculated by miles divided by gallons used.   In the statement below we create a variable called 'mpg' and assign the results of miles_driven / gallons_used to 'mpg'.\n",
    "\n"
   ]
  },
  {
   "cell_type": "code",
   "execution_count": null,
   "metadata": {},
   "outputs": [],
   "source": [
    "mpg = miles_driven / gallons_used\n",
    "\n",
    "print(\"mpg = \", mpg)"
   ]
  },
  {
   "cell_type": "markdown",
   "metadata": {},
   "source": [
    "\n",
    "Lastly, we can round the number to two decimal places by using the round() function.  Since the variable 'mpg' was used to get miles per gallon we can do the same thing with the round() function.  \n",
    "\n",
    "The below statement reads: Round the variable 'mpg' to two decimal places and place the results in the variable 'mpg'"
   ]
  },
  {
   "cell_type": "code",
   "execution_count": null,
   "metadata": {},
   "outputs": [],
   "source": [
    "mpg = round(mpg,2)\n",
    "\n",
    "print(\"mpg = \", mpg)"
   ]
  },
  {
   "cell_type": "markdown",
   "metadata": {},
   "source": [
    "<hr>"
   ]
  },
  {
   "cell_type": "markdown",
   "metadata": {},
   "source": [
    "## Display Results\n",
    "\n",
    "    - Display the results of the miles per gallon calculation"
   ]
  },
  {
   "cell_type": "code",
   "execution_count": null,
   "metadata": {},
   "outputs": [],
   "source": [
    "print(\"miles per gallon:\", str(mpg))"
   ]
  },
  {
   "cell_type": "markdown",
   "metadata": {},
   "source": [
    "<hr>"
   ]
  },
  {
   "cell_type": "markdown",
   "metadata": {},
   "source": [
    "## Solution to MPG Lab 1"
   ]
  },
  {
   "cell_type": "code",
   "execution_count": null,
   "metadata": {},
   "outputs": [],
   "source": [
    "# Ernie Drumm, 10/1/2020\n",
    "#\n",
    "# Description: Miles Per Gallon App\n",
    "#    Ask user for two inputs \n",
    "#    Calculate miles per gallon\n",
    "#    print results. \n",
    "#    * Don't forget to cast as floats! May cause ValueError Exceptions!!!!!!\n",
    "\n",
    "# Display a title\n",
    "print(\"\\nWelcome to the Miles Per Gallon Receipt App\\n\") \n",
    "\n",
    "# Get input from the user\n",
    "#   1. miles_driven\n",
    "#   2. gallons_used\n",
    "#   * Can cast as float here avoid ValueError exception errors\n",
    "miles_driven = input(\"\\nhow many miles? \")\n",
    "gallons_used = input(\"\\nhow many gallons? \")\n",
    "\n",
    "# calculate and round miles per gallon\n",
    "#  * can cast as float here to avoid errors\n",
    "mpg = miles_driven/gallons_used\n",
    "mpg = round(mpg,2)\n",
    "\n",
    "# Display the results\n",
    "print()\n",
    "print(\"miles per gallon:\", mpg)"
   ]
  },
  {
   "cell_type": "markdown",
   "metadata": {},
   "source": [
    "<hr>"
   ]
  },
  {
   "cell_type": "markdown",
   "metadata": {},
   "source": [
    "# MPG Lab 2"
   ]
  },
  {
   "cell_type": "markdown",
   "metadata": {},
   "source": [
    "#### Objectives: \n",
    "\n",
    "    - Set up - Update \n",
    "    - Comments - Update\n",
    "    - Welcome / Title Message - Update\n",
    "    - User Input (x3) - Add additional input\n",
    "        - Miles Driven\n",
    "        - Gallons Used\n",
    "        - Cost per Gallon\n",
    "    - Create function for Miles Per Gallons (MPG) calculations\n",
    "    - Call Calculation function\n",
    "         - MPG = Miles Driven / Gallons Used\n",
    "         - Round MPG to 2 decimal places\n",
    "         - totalCost = Gallons Used * Cost Per Gallon\n",
    "    - Display Results\n",
    "    - Solution"
   ]
  },
  {
   "cell_type": "markdown",
   "metadata": {},
   "source": [
    "## Set up\n",
    "\n",
    "In order to complete this lab assignment, please fork your MPG lab 1.  To make it easier for me to locate after you share it with me, please name your repl: lastNameMPG2"
   ]
  },
  {
   "cell_type": "code",
   "execution_count": null,
   "metadata": {},
   "outputs": [],
   "source": [
    "# Set up:  \n",
    "#          - Fork or Update your existing MPG Lab 1 app\n",
    "#\n",
    "#          - NAME the repl: yourLastNameMPG2\n",
    "#\n",
    "#          - SHARE your repl is shared with instructor"
   ]
  },
  {
   "cell_type": "markdown",
   "metadata": {},
   "source": [
    "<hr>"
   ]
  },
  {
   "cell_type": "markdown",
   "metadata": {},
   "source": [
    "## Comments\n",
    "\n",
    "#### Comments: Starting at line 1.   Update comments to give basic information about your updated app.  Include the following information:\n",
    "\n",
    "- Update date information.  Keep revision history in comments as much as possible.\n",
    "- Update application description to include what is being added."
   ]
  },
  {
   "cell_type": "code",
   "execution_count": null,
   "metadata": {},
   "outputs": [],
   "source": [
    "##################################\n",
    "##                              ##\n",
    "##  Ernie Drumm, 9/1/2020       ##\n",
    "##                              ##\n",
    "##      -Update: 10/2/2020      ##\n",
    "##################################\n",
    "\n",
    "# Description:  This app ....\n",
    "#\n",
    "#  10/2/2020 - Update this app to include functions\n",
    "#"
   ]
  },
  {
   "cell_type": "markdown",
   "metadata": {},
   "source": [
    "<hr>"
   ]
  },
  {
   "cell_type": "markdown",
   "metadata": {},
   "source": [
    "## Welcome / Title Message - Update\n",
    "\n",
    "Create a function for each time you have to print results to the console.  The first time is the Welcome screen.  The second time prints the results to the console. "
   ]
  },
  {
   "cell_type": "code",
   "execution_count": null,
   "metadata": {},
   "outputs": [],
   "source": [
    "print(\"\\nWelcome to the Miles Per Gallon Receipt App\\n\")\n",
    "print(\"This receipt app will ask for miles driven, gallons used, and cost per galllon of gas\\n\")\n",
    "print(\"The app will calculate the miles per gallon and total cost of gas used. \\n\")\n",
    "print(\"At the end, the app will print the receipt results\")"
   ]
  },
  {
   "cell_type": "markdown",
   "metadata": {},
   "source": [
    "<hr>"
   ]
  },
  {
   "cell_type": "markdown",
   "metadata": {},
   "source": [
    "## User Input (x3) - Add additional input"
   ]
  },
  {
   "cell_type": "markdown",
   "metadata": {},
   "source": [
    "#### Get three (3) pieces of input from the user. \n",
    "\n",
    "- Miles Driven\n",
    "- Gallons Used\n",
    "- Cost per Gallon"
   ]
  },
  {
   "cell_type": "code",
   "execution_count": null,
   "metadata": {},
   "outputs": [],
   "source": [
    "usrMilesDriven = input(\"How many miles did you drive? \")\n",
    "usrGallons_Used = input(\"How many gallons were used? \")\n",
    "usrCost_Per_Gallon = input(\"Cost per gallon of gas? \")"
   ]
  },
  {
   "cell_type": "markdown",
   "metadata": {},
   "source": [
    "<hr>"
   ]
  },
  {
   "cell_type": "markdown",
   "metadata": {},
   "source": [
    "## Create function for Miles Per Gallon (MPG) calculation"
   ]
  },
  {
   "cell_type": "markdown",
   "metadata": {},
   "source": [
    "Function definitions are placed at the top of the code right after introduction comments. \n",
    "\n",
    "- The 'def' key work creates the function 'getMPG'.  \n",
    "- The 'getMPG' function accepts two arguments: 'driven' and 'Gused'.  \n",
    "- Within the function 'Thempg' variable is assigned the value of driven divided by Gused. Both variables are cast to floats.\n",
    "- The round() function is used to round the variable 'Thempg' to two decimal places. \n",
    "- Lastly, the results of 'Thempg' is returned."
   ]
  },
  {
   "cell_type": "code",
   "execution_count": null,
   "metadata": {},
   "outputs": [],
   "source": [
    "# Function to calculate MPG\n",
    "def getMPG(driven, Gused):            \n",
    "  Thempg = float(driven)/float(Gused)\n",
    "  Thempg = round(Thempg,2)\n",
    "  return(Thempg)"
   ]
  },
  {
   "cell_type": "markdown",
   "metadata": {},
   "source": [
    "<div class=\"alert alert-block alert-info\">\n",
    "<b>Tip:</b> Make sure the 'def' line ends with a colon ':' AND the function has the proper indentations! </div>"
   ]
  },
  {
   "cell_type": "markdown",
   "metadata": {},
   "source": [
    "## Call Calculation function"
   ]
  },
  {
   "cell_type": "code",
   "execution_count": null,
   "metadata": {},
   "outputs": [],
   "source": [
    "# Call the function and pass in two variables\n",
    "\n",
    "getMPG(milesDriven, gallonsUsed)"
   ]
  },
  {
   "cell_type": "markdown",
   "metadata": {},
   "source": [
    "<hr>"
   ]
  },
  {
   "cell_type": "markdown",
   "metadata": {},
   "source": [
    "## Display Results"
   ]
  },
  {
   "cell_type": "markdown",
   "metadata": {},
   "source": [
    "    - Display Miles per gallon results\n",
    "    - Display Total Cost (Gallons Used * Cost Per Gallon)\n",
    "    - Display Cost Per Mile (total cost / miles driven)"
   ]
  },
  {
   "cell_type": "code",
   "execution_count": null,
   "metadata": {},
   "outputs": [],
   "source": [
    "printResults(mpg, totalCost, costPerMile)\n",
    "\n",
    "totalCost = gallons_used * cost_per_gallon\n",
    "\n",
    "costPerMile = totalCost / miles_driven"
   ]
  },
  {
   "cell_type": "markdown",
   "metadata": {},
   "source": [
    "<hr>"
   ]
  },
  {
   "cell_type": "markdown",
   "metadata": {},
   "source": [
    "## Solution to MPG Lab 2"
   ]
  },
  {
   "cell_type": "code",
   "execution_count": null,
   "metadata": {},
   "outputs": [],
   "source": [
    "# Function for MPG\n",
    "def getMPG(driven, Gused):\n",
    "  # Calculate and round miles per gallon\n",
    "  Thempg = float(driven)/float(Gused)\n",
    "  Thempg = round(Thempg,2)\n",
    "  return(Thempg)  \n",
    "\n",
    "# Welcome Message\n",
    "print(\"\\nwelcome to my awesome miles per gallon app\\n\")\n",
    "\n",
    "# Ask for User input\n",
    "miles_driven = input(\"how many miles? \")\n",
    "gallons_used = input(\"how many gallons? \")\n",
    "cost_per_gallon = input(\"how much per gallon? \")\n",
    "\n",
    "# Call getMPG function\n",
    "mpg = getMPG(miles_driven, gallons_used)\n",
    "\n",
    "totalCost = gallons_used * cost_per_gallon\n",
    "costPerMile = totalCost / miles_driven\n",
    "\n",
    "print()\n",
    "print(\"miles per gallon:\", mpg)\n",
    "print()\n",
    "print(\"total gas cost\", totalCost)  \n",
    "print(\"cost per mile\", costPerMile)\n"
   ]
  },
  {
   "cell_type": "markdown",
   "metadata": {},
   "source": [
    "<hr>"
   ]
  },
  {
   "cell_type": "markdown",
   "metadata": {},
   "source": [
    "# MPG Lab 3"
   ]
  },
  {
   "cell_type": "markdown",
   "metadata": {},
   "source": [
    "#### Objectives: \n",
    "\n",
    "    - Set up - Update \n",
    "    - Comments - Update\n",
    "    - Welcome / Title Message - Update\n",
    "    - User Input (x4) \n",
    "        - Miles Driven\n",
    "        - Gallons Used\n",
    "        - Cost per Gallon\n",
    "        - Destination Time\n",
    "    - Create function for three (3) calculations\n",
    "            - MilesPerGallon()\n",
    "                - MPG = Miles Driven / Gallons Used\n",
    "                - Round MPG to 2 decimal places\n",
    "            - TotalCost()\n",
    "                - totalCost = Gallons Used * Cost Per Gallon\n",
    "            - CostPerMile()\n",
    "                - costPerMile = totalCost / Miles Driven\n",
    "    - User Input function and Exception Handling \n",
    "    - Call Calculation functions\n",
    "    - Display Results\n",
    "    - Solution"
   ]
  },
  {
   "cell_type": "markdown",
   "metadata": {},
   "source": [
    "## Set up\n",
    "\n",
    "In order to complete the MPG lab 3 assignment, please fork your MPG lab 2.  To make it easier for me to locate after you share it with me, please name your repl: lastNameMPG3"
   ]
  },
  {
   "cell_type": "code",
   "execution_count": null,
   "metadata": {},
   "outputs": [],
   "source": [
    "# Set up:  \n",
    "#          - Fork your existing MPG Lab 2 app\n",
    "#\n",
    "#          - NAME the repl: yourLastNameMPG3\n",
    "#\n",
    "#          - SHARE your repl is shared with instructor"
   ]
  },
  {
   "cell_type": "markdown",
   "metadata": {},
   "source": [
    "<hr>"
   ]
  },
  {
   "cell_type": "markdown",
   "metadata": {},
   "source": [
    "## Comments\n",
    "\n",
    "#### Comments: Starting at line 1.   Update comments to give basic information about your updated app.  Include the following information:\n",
    "\n",
    "- Update date information.  Keep revision history in comments as much as possible.\n",
    "- Update application description to include what is being added."
   ]
  },
  {
   "cell_type": "code",
   "execution_count": null,
   "metadata": {},
   "outputs": [],
   "source": [
    "##################################\n",
    "##                              ##\n",
    "##  Ernie Drumm, 9/1/2020       ##\n",
    "##                              ##\n",
    "##      -Update: 10/2/2020      ##\n",
    "##               10/6/2020      ##\n",
    "##################################\n",
    "\n",
    "# Description:  This app ....\n",
    "#\n",
    "#  10/2/2020 - Update this app to include Functions\n",
    "#\n",
    "#  10/6/2020 - Update this app to include Exception Handling"
   ]
  },
  {
   "cell_type": "markdown",
   "metadata": {},
   "source": [
    "<hr>"
   ]
  },
  {
   "cell_type": "markdown",
   "metadata": {},
   "source": [
    "## Update Welcome / Title Message\n",
    "\n",
    "Update the Welcome message to reflect the additional user input requirement. As well as the new information available for the final receipt."
   ]
  },
  {
   "cell_type": "markdown",
   "metadata": {},
   "source": [
    "### Print Functions\n",
    "\n",
    "Create a function for each time you have to print results to the console.  The first time is the Welcome screen.  The second time prints the results to the console. "
   ]
  },
  {
   "cell_type": "code",
   "execution_count": null,
   "metadata": {},
   "outputs": [],
   "source": [
    "# myPrints.py file\n",
    "\n",
    "# Results function\n",
    "def pResults(miles,total,costP):           \n",
    "  print(\"\\nmiles per gallon:\", str(miles))\n",
    "  print(\"\\ntotal gas cost\", total)  \n",
    "  print(\"\\ncost per mile\", costP)\n",
    "\n",
    "# Welcome Function\n",
    "def pWelcome():                            \n",
    "  print(\"\\nWelcome to the Miles Per Gallon Receipt App\\n\")\n",
    "  print(\"This receipt app will ask for miles driven, gallons used, and cost per galllon of gas\\n\")\n",
    "  print(\"The app will calculate the miles per gallon and total cost of gas used. \\n\")\n",
    "  print(\"At the end, the app will print the receipt results\")"
   ]
  },
  {
   "cell_type": "markdown",
   "metadata": {},
   "source": [
    "<div class=\"alert alert-block alert-info\">\n",
    "<b>NOtice: </b> The function pResults above, REQUIRES three arguments to be passed into the function (miles, total, costP).  These must be provided when the function is called.\n",
    "</div>"
   ]
  },
  {
   "cell_type": "code",
   "execution_count": null,
   "metadata": {},
   "outputs": [],
   "source": [
    "# Calling the pWelcome() function from main.py file\n",
    "...\n",
    "\n",
    "pWelcome()\n",
    "\n",
    "..."
   ]
  },
  {
   "cell_type": "code",
   "execution_count": null,
   "metadata": {},
   "outputs": [],
   "source": [
    "# Calling the pResults() function from main.py file\n",
    "\n",
    "...\n",
    "\n",
    "# Display results. \n",
    "pResults(mpg, totalCost, costPerMile)"
   ]
  },
  {
   "cell_type": "markdown",
   "metadata": {},
   "source": [
    "<div class=\"alert alert-block alert-info\">\n",
    "<b>Notice:</b> The function 'pResults' has three arguments (mpg, totalCost, and costPerMile). \n",
    "</div>"
   ]
  },
  {
   "cell_type": "markdown",
   "metadata": {},
   "source": [
    "<hr>"
   ]
  },
  {
   "cell_type": "markdown",
   "metadata": {},
   "source": [
    "## User Input (x4) \n",
    "    \n",
    "    - Miles Driven\n",
    "    - Gallons Used\n",
    "    - Cost per Gallon\n",
    "    - Destination Time"
   ]
  },
  {
   "cell_type": "markdown",
   "metadata": {},
   "source": [
    "Save the results of the Exception Validation function to the local variables 'miles_driven', 'gallons_used', 'cost_per_gallon','destination_time'    "
   ]
  },
  {
   "cell_type": "code",
   "execution_count": null,
   "metadata": {},
   "outputs": [],
   "source": [
    "miles_driven = inMilesDriven()            \n",
    "gallons_used = inGallonsUsed()       \n",
    "cost_per_gallon = inCostPerGallon()   \n",
    "destination_time = inDestTime()      "
   ]
  },
  {
   "cell_type": "markdown",
   "metadata": {},
   "source": [
    "<hr>"
   ]
  },
  {
   "cell_type": "markdown",
   "metadata": {},
   "source": [
    " ## Create function for ALL calculations"
   ]
  },
  {
   "cell_type": "code",
   "execution_count": null,
   "metadata": {},
   "outputs": [],
   "source": [
    "def calcTotalCost(gallons_used, cost_per_gallon):\n",
    "  totalCost = float(gallons_used) * float(cost_per_gallon)\n",
    "  return(totalCost)\n",
    "\n",
    "def calcCostPerMile(total_cost, miles_driven):\n",
    "  costPerMile = float(total_cost) / float(miles_driven)\n",
    "  return(costPerMile)\n",
    "\n",
    "def calcMPG(driven, Gused):\n",
    "  Thempg = float(driven)/float(Gused)\n",
    "  Thempg = round(Thempg,2)\n",
    "  return(Thempg)"
   ]
  },
  {
   "cell_type": "markdown",
   "metadata": {},
   "source": [
    "<hr>"
   ]
  },
  {
   "cell_type": "markdown",
   "metadata": {},
   "source": [
    "## User Input function and Exception Handling "
   ]
  },
  {
   "cell_type": "markdown",
   "metadata": {},
   "source": [
    "Below is the inMilesDriven() function definition.  No attributes needed.\n",
    "\n",
    "    - While True:   loop statement keeps asking the question if the user enters Invalid data\n",
    "    -   Try:      \n",
    "    -       starts the validation process by trying to execute statements\n",
    "    -       return(miles_driven)   Returns float value entered by the user.. if it is valid!\n",
    "    -   except ValueError:  This specifically checks for numeric vs. string errors"
   ]
  },
  {
   "cell_type": "code",
   "execution_count": null,
   "metadata": {},
   "outputs": [],
   "source": [
    "def inMilesDriven(): \n",
    "  while True:   \n",
    "    try:\n",
    "      miles_driven = float(input(\"how many miles did you drive? \"))\n",
    "      return(miles_driven)\n",
    "    except ValueError:\n",
    "      print(\"Invalid number. PLease try again\")"
   ]
  },
  {
   "cell_type": "markdown",
   "metadata": {},
   "source": [
    "Import and call the inMilesDriven function from myInputs.py"
   ]
  },
  {
   "cell_type": "code",
   "execution_count": null,
   "metadata": {},
   "outputs": [],
   "source": [
    "# Import the inMilesDriven function from the file myInputs.py\n",
    "from myInputs import inMilesDriven\n",
    "\n",
    "#  code statements\n",
    "\n",
    "# call the inMilesDriven function save the value to 'miles_driven'\n",
    "miles_driven = inMilesDriven()"
   ]
  },
  {
   "cell_type": "markdown",
   "metadata": {},
   "source": [
    "<hr>"
   ]
  },
  {
   "cell_type": "markdown",
   "metadata": {},
   "source": [
    "## Call Calculation functions"
   ]
  },
  {
   "cell_type": "code",
   "execution_count": null,
   "metadata": {},
   "outputs": [],
   "source": [
    "mpg = calcMPG(miles_driven, gallons_used)\n",
    "\n",
    "totalCost = calcTotalCost(gallons_used, cost_per_gallon)\n",
    "\n",
    "costPerMile = calcCostPerMile(totalCost, miles_driven)"
   ]
  },
  {
   "cell_type": "markdown",
   "metadata": {},
   "source": [
    "<hr>"
   ]
  },
  {
   "cell_type": "markdown",
   "metadata": {},
   "source": [
    "## Display Results"
   ]
  },
  {
   "cell_type": "markdown",
   "metadata": {},
   "source": [
    "Call the pResluts() function and pass in 'mpg', 'totalCost', 'costPerMile'"
   ]
  },
  {
   "cell_type": "code",
   "execution_count": null,
   "metadata": {},
   "outputs": [],
   "source": [
    "pResults(mpg, totalCost, costPerMile)"
   ]
  },
  {
   "cell_type": "markdown",
   "metadata": {},
   "source": [
    "pResults function to prints the results of the calculations. "
   ]
  },
  {
   "cell_type": "code",
   "execution_count": null,
   "metadata": {},
   "outputs": [],
   "source": [
    "def pResults(miles,total,costP):\n",
    "  print(\"\\n\\nMiles per gallon:\", str(miles))\n",
    "  print(\"\\ntotal gas cost\", total)  \n",
    "  print(\"\\ncost per mile\", costP)"
   ]
  },
  {
   "cell_type": "markdown",
   "metadata": {},
   "source": [
    "<hr>"
   ]
  },
  {
   "cell_type": "markdown",
   "metadata": {},
   "source": [
    "## Solution MPG 3"
   ]
  },
  {
   "cell_type": "markdown",
   "metadata": {},
   "source": [
    "#### main.py"
   ]
  },
  {
   "cell_type": "code",
   "execution_count": null,
   "metadata": {},
   "outputs": [],
   "source": [
    "from myPrints import pWelcome, pResults\n",
    "from myCalcs import calcMPG, calcTotalCost, calcCostPerMile\n",
    "from myInput import inMilesDriven, inGallonsUsed, inCostPerGallon, inDestTime \n",
    "\n",
    "pWelcome()\n",
    "\n",
    "miles_driven = inMilesDriven()            \n",
    "gallons_used = inGallonsUsed()       \n",
    "cost_per_gallon = inCostPerGallon()   \n",
    "destination_Time = inDestTime()     \n",
    "\n",
    "mpg = calcMPG(miles_driven, gallons_used)\n",
    "totalCost = calcTotalCost(gallons_used, cost_per_gallon)\n",
    "costPerMile = calcCostPerMile(totalCost, miles_driven)\n",
    "\n",
    "# Display results. \n",
    "pResults(mpg, totalCost, costPerMile)"
   ]
  },
  {
   "cell_type": "markdown",
   "metadata": {},
   "source": [
    "#### myCalcs.py"
   ]
  },
  {
   "cell_type": "code",
   "execution_count": null,
   "metadata": {},
   "outputs": [],
   "source": [
    "def calcTotalCost(gallons_used, cost_per_gallon):\n",
    "  totalCost = float(gallons_used) * float(cost_per_gallon)\n",
    "  return(totalCost)\n",
    "\n",
    "def calcCostPerMile(total_cost, miles_driven):\n",
    "  costPerMile = float(total_cost) / float(miles_driven)\n",
    "  return(costPerMile)\n",
    "\n",
    "def calcMPG(driven, Gused):\n",
    "  Thempg = float(driven)/float(Gused)\n",
    "  Thempg = round(Thempg,2)\n",
    "  return(Thempg)"
   ]
  },
  {
   "cell_type": "markdown",
   "metadata": {},
   "source": [
    "#### myInput.py"
   ]
  },
  {
   "cell_type": "code",
   "execution_count": null,
   "metadata": {},
   "outputs": [],
   "source": [
    "\n",
    "def inMilesDriven(): \n",
    "  while True:   \n",
    "    try:\n",
    "      miles_driven = float(input(\"\\nhow many miles did you drive? \"))\n",
    "      return(miles_driven)\n",
    "    except ValueError:\n",
    "      print(\"Invalid number. PLease try again\")\n",
    "\n",
    "def inGallonsUsed():\n",
    "  while True: \n",
    "    try:\n",
    "      gallons_used = float(input(\"\\nHow many gallons did you use? \"))\n",
    "      return(gallons_used)\n",
    "    except ValueError:\n",
    "      print(\"Invalid number. PLease try again\")\n",
    "\n",
    "def inCostPerGallon():\n",
    "  while True: \n",
    "    try:\n",
    "      costPerGallon = float(input(\"\\nWhat was the cost per gallon? \"))\n",
    "      return(costPerGallon)\n",
    "    except ValueError:\n",
    "      print(\"Invalid number. PLease try again\")\n",
    "\n",
    "def inDestTime():\n",
    "  while True: \n",
    "    try:\n",
    "      destTime = float(input(\"\\nHow long in hours was the trip? \"))\n",
    "      return(destTime)\n",
    "    except ValueError:\n",
    "      print(\"Invalid number. PLease try again\")"
   ]
  },
  {
   "cell_type": "markdown",
   "metadata": {},
   "source": [
    "#### myPrints.py"
   ]
  },
  {
   "cell_type": "code",
   "execution_count": null,
   "metadata": {},
   "outputs": [],
   "source": [
    "def pResults(miles,total,costP):\n",
    "  print(\"\\n\\nMiles per gallon:\", str(miles))\n",
    "  print(\"\\ntotal gas cost\", total)  \n",
    "  print(\"\\ncost per mile\", costP)\n",
    "\n",
    "\n",
    "def pWelcome():\n",
    "  print(\"\")\n",
    "  print(\"Welcome to the Miles Per Gallon Receipt App\\n\")\n",
    "  print(\"We will gather data including Miles Driven\")\n",
    "  print(\" and Gallons of Gas Used.\\n\")\n",
    "  print(\"Then we will calculate the Miles Per Gallon\\n\")"
   ]
  },
  {
   "cell_type": "markdown",
   "metadata": {},
   "source": [
    "<hr>"
   ]
  },
  {
   "cell_type": "markdown",
   "metadata": {},
   "source": [
    "## Resources: \n",
    "\n",
    "- Miles Per Gallon <a href=\"https://docs.google.com/document/d/188osY_tcQ0CFB9dfhhnCOYW8nSlyhzzP2GS1R9eqo-M/edit\">Lab 1.pdf</a>\n",
    "- Miles Per Gallon <a href=\"https://docs.google.com/document/d/188osY_tcQ0CFB9dfhhnCOYW8nSlyhzzP2GS1R9eqo-M/edit\">Lab 2.pdf</a>\n",
    "- Miles Per Gallon <a href=\"https://docs.google.com/document/d/1ctphm-_qbNRD_9i-W3Uau5QGYhMfO2jJWczQAPCMK6Q/edit\">Lab 3.pdf</a>"
   ]
  }
 ],
 "metadata": {
  "kernelspec": {
   "display_name": "Python 3",
   "language": "python",
   "name": "python3"
  },
  "language_info": {
   "codemirror_mode": {
    "name": "ipython",
    "version": 3
   },
   "file_extension": ".py",
   "mimetype": "text/x-python",
   "name": "python",
   "nbconvert_exporter": "python",
   "pygments_lexer": "ipython3",
   "version": "3.7.3"
  }
 },
 "nbformat": 4,
 "nbformat_minor": 2
}
