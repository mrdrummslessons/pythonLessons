{
 "cells": [
  {
   "cell_type": "markdown",
   "metadata": {},
   "source": [
    "# Adventure Labs\n",
    "\n",
    "- Adventure 1-1 - Comments, print(), Variables, Casting\n",
    "- Adventure 1-2 - input()\n",
    "- Adventure 1-3 - functions 1\n",
    "- Adventure 1-4 - functions 2\n",
    "- Adventure 1-5 - functions 3\n",
    "   "
   ]
  },
  {
   "cell_type": "markdown",
   "metadata": {},
   "source": [
    "# Adventure 1-1\n",
    "    - Directions\n",
    "    - Steps\n",
    "         1. Comments\n",
    "         2. Splash / Welcome Message\n",
    "         3. User Variables\n",
    "         4. Display User Information\n",
    "    - Solution"
   ]
  },
  {
   "cell_type": "markdown",
   "metadata": {},
   "source": [
    "<hr>"
   ]
  },
  {
   "cell_type": "markdown",
   "metadata": {},
   "source": [
    "#####  Welcome to the first step into creating an adventure game.  We start by creating a working environment and start coding.."
   ]
  },
  {
   "cell_type": "code",
   "execution_count": null,
   "metadata": {},
   "outputs": [],
   "source": [
    "#########################################################\n",
    "#                                                       #\n",
    "# Directions:                                           #\n",
    "#       - Create a new repl.                            #\n",
    "#       - Change repl name to: yourLastNameAdv1-1       #\n",
    "#       - SHARE your repl is shared with me!            #\n",
    "#       - Read ALL comments                             #\n",
    "#       - Complete the necessary missing code.          #"
   ]
  },
  {
   "cell_type": "markdown",
   "metadata": {},
   "source": [
    "## 1-1.1. Comments"
   ]
  },
  {
   "cell_type": "markdown",
   "metadata": {},
   "source": [
    "#### Comments: Starting at line 1.   Add comments to give basic information about your app.  Include the following information:\n",
    "\n",
    "- Name\n",
    "- Date\n",
    "- Description"
   ]
  },
  {
   "cell_type": "code",
   "execution_count": null,
   "metadata": {},
   "outputs": [],
   "source": [
    "#  Ernie Drumm, 9/1/2020\n",
    "#  Description: Adventure 1-1\n",
    "#               print() function\n",
    "#               Variables\n",
    "#               Sring data type \n",
    "#               Numeric data type \n",
    "#               Casting \n"
   ]
  },
  {
   "cell_type": "markdown",
   "metadata": {},
   "source": [
    "## 1-1.2. Splash / Welcome Message"
   ]
  },
  {
   "cell_type": "markdown",
   "metadata": {},
   "source": [
    "#### Create a welcome message for the user.  This helps the user understand what the app is all about.  \n",
    "    a. Print a Welcome message (i.e., \"Welcome to Awesome Adventure\")\n",
    "    b. Print a frindly message about the app."
   ]
  },
  {
   "cell_type": "code",
   "execution_count": 1,
   "metadata": {},
   "outputs": [
    {
     "name": "stdout",
     "output_type": "stream",
     "text": [
      "Welcome to the Adventure app\n",
      "\n",
      "We will start by gathering some information from you\n",
      "\n"
     ]
    }
   ],
   "source": [
    "print(\"Welcome to the Adventure app\")\n",
    "print()\n",
    "print(\"We will start by gathering some information from you\")\n",
    "print()"
   ]
  },
  {
   "cell_type": "markdown",
   "metadata": {},
   "source": [
    "## 1-1.3. User Variables"
   ]
  },
  {
   "cell_type": "markdown",
   "metadata": {},
   "source": [
    "#### Create four (4) variables: \n",
    "\n",
    "       1. Player Name with the value of 'Dave' \n",
    "       2. Player Title with the value of 'Warrior'\n",
    "       3. Player Level with the value of '7' \n",
    "       4. Player Hit Points with the value of '155' "
   ]
  },
  {
   "cell_type": "code",
   "execution_count": 3,
   "metadata": {},
   "outputs": [],
   "source": [
    "plrName = \"Dave\"\n",
    "plrTitle = \"Warrior\"\n",
    "plrLevel = 7\n",
    "plrHP = 155"
   ]
  },
  {
   "cell_type": "markdown",
   "metadata": {},
   "source": [
    "## 1-1.4. Display User Information\n",
    "\n",
    "    - Display all data received from user input.\n",
    "    - Friendly formatted             \n",
    "    - Include:                       \n",
    "                -Player Name               \n",
    "                -Player title              \n",
    "                -Player Level              \n",
    "                -Player Hit Points"
   ]
  },
  {
   "cell_type": "code",
   "execution_count": 6,
   "metadata": {},
   "outputs": [
    {
     "name": "stdout",
     "output_type": "stream",
     "text": [
      "Welcome, Warrior Dave\n",
      "\n",
      "You are level 7 with 155 hit points.\n",
      "\n",
      "Looking forward to our adventure together Dave!\n",
      "\n"
     ]
    }
   ],
   "source": [
    "print(\"Welcome,\", plrTitle, plrName )\n",
    "print()\n",
    "print(\"You are level \" + str(plrLevel) + \" with \" + str(plrHP) + \" hit points.\")\n",
    "print()\n",
    "print(\"Looking forward to our adventure together\" , plrName + \"!\\n\")"
   ]
  },
  {
   "cell_type": "markdown",
   "metadata": {},
   "source": [
    "## Solution to Adventure 1-1"
   ]
  },
  {
   "cell_type": "code",
   "execution_count": 8,
   "metadata": {},
   "outputs": [
    {
     "name": "stdout",
     "output_type": "stream",
     "text": [
      "Welcome to the Adventure app\n",
      "\n",
      "We will start by gathering some information from you.\n",
      "\n",
      "Welcome, Slayer Dave\n",
      "\n",
      "You are level 7 with 155 hit points.\n",
      "\n",
      "Looking forward to our adventure together Dave!\n",
      "\n"
     ]
    }
   ],
   "source": [
    "#########################################################\n",
    "#                                                       #\n",
    "# Directions:                                           #\n",
    "#       - Create a new repl.                            #\n",
    "#       - Change repl name to: yourLastNameAdv1-1       #\n",
    "#       - SHARE your repl is shared with me!            #\n",
    "#       - Read ALL comments                             #\n",
    "#       - Complete the necessary missing code.          #\n",
    "#                                                       #\n",
    "# Steps:                                                #\n",
    "#       - 1. Documentation Comments                     #\n",
    "#       - 2. Splash / Welcome message                   #\n",
    "#       - 3. Create Variables                           #\n",
    "#       - 4. Display user information                   #\n",
    "#                                                       #\n",
    "#########################################################\n",
    "\n",
    "##################################\n",
    "#                                #\n",
    "# 1. Documentation comments:     #\n",
    "#         a. Name                #\n",
    "#         b. Date                #\n",
    "#         c. Description         #\n",
    "#                                #\n",
    "##################################\n",
    "#  Ernie Drumm, 9/1/2020\n",
    "#  Description: Adventure 1-1\n",
    "#               print() function\n",
    "#               Variables\n",
    "#               Sring data type \n",
    "#               Numeric data type \n",
    "#               Casting \n",
    "\n",
    "\n",
    "#############################################\n",
    "#                                           #\n",
    "# 2. Splash / Welcome Message               #\n",
    "#         a. print a Welcome message.       #\n",
    "#         b. print another message to       #\n",
    "#              let them know about the app. #\n",
    "#                                           #\n",
    "#############################################\n",
    "print(\"Welcome to the Adventure app\")\n",
    "print()\n",
    "print(\"We will start by gathering some information from you.\")\n",
    "print()\n",
    "\n",
    "#############################################\n",
    "#                                           #\n",
    "# 3. Create Variables                       #\n",
    "#         a. Player Name                    #\n",
    "#         b. Player Title                   #\n",
    "#         c. Player Level                   #\n",
    "#         d. Player Hit Points              #\n",
    "#                                           #\n",
    "#############################################\n",
    "plrName = \"Dave\"\n",
    "plrTitle = \"Slayer\"\n",
    "plrLevel = 7\n",
    "plrHP = 155\n",
    "\n",
    "\n",
    "#############################################\n",
    "#                                           #\n",
    "# 4. Display User Information               #\n",
    "#         a. Multiple print() messages      #\n",
    "#         b. Friendly formatted             #\n",
    "#         c. Include:                       #\n",
    "#                -Player Name               #\n",
    "#                -Player title              #\n",
    "#                -Player Level              #\n",
    "#                -Player Hit Points         #\n",
    "#                                           #\n",
    "#############################################\n",
    "print(\"Welcome,\", plrTitle, plrName )\n",
    "print()\n",
    "print(\"You are level \" + str(plrLevel) + \" with \" + str(plrHP) + \" hit points.\")\n",
    "print()\n",
    "print(\"Looking forward to our adventure together\" , plrName + \"!\\n\")\n"
   ]
  },
  {
   "cell_type": "markdown",
   "metadata": {},
   "source": [
    "<b><hr></b>"
   ]
  },
  {
   "cell_type": "markdown",
   "metadata": {},
   "source": [
    "# Adventure 1-2 (User Input)\n",
    "\n",
    "    - Adventure 1-2\n",
    "    - Directions\n",
    "    - Steps\n",
    "         1. Documentation Comments\n",
    "         2. Splash / Welcome Message\n",
    "         4. Display User Information\n",
    "    - NEW Steps\n",
    "         3. Get User Input\n",
    "    - Solution "
   ]
  },
  {
   "cell_type": "markdown",
   "metadata": {},
   "source": [
    "## Directions:\n",
    "\n",
    "### - Fork repl Adventure1-1 and rename as 'Adventure1-2' \n",
    "### - Add input() function to accept all user input."
   ]
  },
  {
   "cell_type": "markdown",
   "metadata": {},
   "source": [
    "<div class=\"alert alert-block alert-info\">\n",
    "<b>Changes:</b> 1-1 to 1-2. The main change is the implementation of User Input.\n",
    "</div>"
   ]
  },
  {
   "cell_type": "code",
   "execution_count": null,
   "metadata": {},
   "outputs": [],
   "source": [
    "#########################################################\n",
    "##################     User Input     ###################\n",
    "#########################################################\n",
    "#                                                       #\n",
    "# Directions:                                           #\n",
    "#       - Fork repl: 'yourLastNameAdv1-1'               #\n",
    "#       - Name repl: 'yourLastNameAdv1-2'               #\n",
    "#       - Read ALL comments                             #\n",
    "#       - Complete the necessary missing code.          #\n",
    "#                                                       #\n",
    "# Steps:                                                #\n",
    "#       - 1. Documentation Comments                     #\n",
    "#       - 2. Splash / Welcome message                   #\n",
    "#  *New - 3. Get User Input                             #\n",
    "#       - 4. Display user information                   #\n",
    "#                                                       #\n",
    "#########################################################"
   ]
  },
  {
   "cell_type": "markdown",
   "metadata": {},
   "source": [
    "<br>"
   ]
  },
  {
   "cell_type": "markdown",
   "metadata": {},
   "source": [
    "## 1-2.3. Get User Input\n",
    "\n",
    "##### We use the input() function for each of the player variables we created before (plrName, plrTitle, plrLevel, and plrHP).\n",
    "##### Each input() function should include the question for the user to answer."
   ]
  },
  {
   "cell_type": "code",
   "execution_count": null,
   "metadata": {},
   "outputs": [],
   "source": [
    "plrName = input(\"What is your first name? \")\n",
    "\n",
    "plrTitle = input(\"what is your title: \")\n",
    "\n",
    "plrLevel = input(\"What is your level? \")\n",
    "\n",
    "plrHP = input(\"What is your HP? \")"
   ]
  },
  {
   "cell_type": "markdown",
   "metadata": {},
   "source": [
    "<br>"
   ]
  },
  {
   "cell_type": "markdown",
   "metadata": {},
   "source": [
    "## Solution to Welcome 1-2"
   ]
  },
  {
   "cell_type": "code",
   "execution_count": 9,
   "metadata": {},
   "outputs": [
    {
     "name": "stdout",
     "output_type": "stream",
     "text": [
      "Welcome to the Adventure app\n",
      "\n",
      "We will start by gathering some information from you.\n",
      "\n",
      "What is your first name? Dave\n",
      "what is your title: Slayer\n",
      "What is your level? 7\n",
      "What is your HP? 155\n",
      "Welcome, Slayer Dave\n",
      "\n",
      "Your are level 7 with 155 hit points.\n",
      "\n",
      "Looking forward to our adventure together Dave!\n",
      "\n"
     ]
    }
   ],
   "source": [
    "#########################################################\n",
    "##################     User Input     ###################\n",
    "#########################################################\n",
    "#                                                       #\n",
    "# Directions:                                           #\n",
    "#       - Fork repl: 'yourLastNameAdv1-1'               #\n",
    "#       - Name repl: 'yourLastNameAdv1-2'               #\n",
    "#       - Read ALL comments                             #\n",
    "#       - Complete the necessary missing code.          #\n",
    "#                                                       #\n",
    "# Steps:                                                #\n",
    "#       - 1. Documentation Comments                     #\n",
    "#       - 2. Splash / Welcome message                   #\n",
    "#  *New - 3. Get User Input                             #\n",
    "#       - 4. Display user information                   #\n",
    "#                                                       #\n",
    "#########################################################\n",
    "\n",
    "\n",
    "##################################\n",
    "#                                #\n",
    "# 1. Documentation comments:     #\n",
    "#         a. Name                #\n",
    "#         b. Date                #\n",
    "#         c. Description         #\n",
    "#                                #\n",
    "##################################\n",
    "#  Ernie Drumm, 9/1/2020\n",
    "#  Description: Adventure 1-2\n",
    "#               print() function\n",
    "#               Variables\n",
    "#               Sring data type \n",
    "#               Numeric data type \n",
    "\n",
    "\n",
    "#############################################\n",
    "#                                           #\n",
    "# 2. Splash / Welcome Message               #\n",
    "#         a. print a Welcome message.       #\n",
    "#         b. print another message to       #\n",
    "#              let them know about the app. #\n",
    "#                                           #\n",
    "#############################################\n",
    "print(\"Welcome to the Adventure app\")\n",
    "print()\n",
    "print(\"We will start by gathering some information from you.\")\n",
    "print()\n",
    "\n",
    "#############################################\n",
    "################   NEW   ####################\n",
    "#############################################\n",
    "#                                           #\n",
    "# 3. Get User Input                         #\n",
    "#         a. Player Name                    #\n",
    "#         b. Player Title                   #\n",
    "#         c. Player Level                   #\n",
    "#         d. Player Hit Points              #\n",
    "#                                           #\n",
    "#############################################\n",
    "plrName = input(\"What is your first name? \")\n",
    "plrTitle = input(\"what is your title: \")\n",
    "plrLevel = input(\"What is your level? \")\n",
    "plrHP = input(\"What is your HP? \")\n",
    "\n",
    "\n",
    "#############################################\n",
    "#                                           #\n",
    "# 4. Display User Information               #\n",
    "#         a. Multiple print() messages      #\n",
    "#         b. Friendly formatted             #\n",
    "#         c. Include:                       #\n",
    "#                -Player Name               #\n",
    "#                -Player title              #\n",
    "#                -Player Level              #\n",
    "#                -Player Hit Points         #\n",
    "#                                           #\n",
    "#############################################\n",
    "print(\"Welcome,\", plrTitle, plrName )\n",
    "print()\n",
    "print(\"Your are level\", plrLevel, \"with\", plrHP, \"hit points.\")\n",
    "print()\n",
    "print(\"Looking forward to our adventure together\" , plrName + \"!\\n\")\n"
   ]
  },
  {
   "cell_type": "markdown",
   "metadata": {},
   "source": [
    "<br>"
   ]
  },
  {
   "cell_type": "markdown",
   "metadata": {},
   "source": [
    "<hr>"
   ]
  },
  {
   "cell_type": "markdown",
   "metadata": {},
   "source": [
    "<br>"
   ]
  },
  {
   "cell_type": "markdown",
   "metadata": {},
   "source": [
    "# Adventure 1-3 (functions 1)\n",
    "\n",
    "    - Adventure 1-3\n",
    "    - Directions\n",
    "    - Steps\n",
    "         1. Documentation Comments\n",
    "         3. Get User Input\n",
    "         4. Display User Information\n",
    "    - NEW Steps\n",
    "         2. Create functions for printing messages:\n",
    "               a. Create pSplash function \n",
    "               b. Create pWelcome function\n",
    "               c. Call pSplash function\n",
    "               d. Call pWelcome function      \n",
    "    - Solution "
   ]
  },
  {
   "cell_type": "markdown",
   "metadata": {},
   "source": [
    "## Directions:\n",
    "\n",
    "### - Fork repl and save as 'Adventure1-3' \n",
    "### - Create functions for printing the Splash screen \n",
    "### - Create a function for printing the Welcome message.\n",
    "### - Call the sSplash and pWelcome functions."
   ]
  },
  {
   "cell_type": "markdown",
   "metadata": {},
   "source": [
    "## 1-3.2a Create pSplash function:"
   ]
  },
  {
   "cell_type": "code",
   "execution_count": null,
   "metadata": {},
   "outputs": [],
   "source": [
    "##################################################\n",
    "#                                                #\n",
    "# 2a. Splash Function                            #\n",
    "#         - Create pSplash function:             #\n",
    "#             def pSplash():                     #\n",
    "#         - Within the function:                 #\n",
    "#             - print 10 blank lines.            #\n",
    "#             - print a \"splash\" message to      #\n",
    "#                 welcome user to the adventure. #\n",
    "#             - print 3 blank lines.             #\n",
    "#                                                #\n",
    "##################################################"
   ]
  },
  {
   "cell_type": "code",
   "execution_count": null,
   "metadata": {},
   "outputs": [],
   "source": [
    "def pSplash():\n",
    "  print(\"\\n\" * 10)\n",
    "  print(\">>>>>>>>>>>>>>>>>>>> Welcome to the Awesome Adventure! <<<<<<<<<<<<<<<<<<<<\")\n",
    "  print(\"\\n\" * 3)"
   ]
  },
  {
   "cell_type": "markdown",
   "metadata": {},
   "source": [
    "## 1-3.2b Create pWelcome function:"
   ]
  },
  {
   "cell_type": "code",
   "execution_count": null,
   "metadata": {},
   "outputs": [],
   "source": [
    "##################################################\n",
    "#                                                #\n",
    "# 2b. Welcome Function                           #\n",
    "#         - Create pWelcome function:            #\n",
    "#             def pWelcome():                    #\n",
    "#         - Within the function:                 #\n",
    "#             - print app name and version       #\n",
    "#             - print friendly welcome message.  #\n",
    "#             - Add a little creativity!         #\n",
    "#                                                #\n",
    "##################################################"
   ]
  },
  {
   "cell_type": "code",
   "execution_count": null,
   "metadata": {},
   "outputs": [],
   "source": [
    "def pWelcome():\n",
    "  print(\"------------- > Adventure V1-3!\")\n",
    "  print(\"\\n\" * 2)\n",
    "  print(\"The adventure starts by gathering some basic information.\")\n",
    "  print()\n",
    "  print(\"We need to know your name, title, level, and hit points!\")\n",
    "  print()\n",
    "  print(\"This is REQUIRED to ensure you are ready for this adventure!\\n\")"
   ]
  },
  {
   "cell_type": "markdown",
   "metadata": {},
   "source": [
    "## 1-3.2c. Call pSplash function:"
   ]
  },
  {
   "cell_type": "code",
   "execution_count": null,
   "metadata": {},
   "outputs": [],
   "source": [
    "pSplash()"
   ]
  },
  {
   "cell_type": "markdown",
   "metadata": {},
   "source": [
    "## 1-3.2d. Call pWelcome function:"
   ]
  },
  {
   "cell_type": "code",
   "execution_count": null,
   "metadata": {},
   "outputs": [],
   "source": [
    "pWelcome()"
   ]
  },
  {
   "cell_type": "markdown",
   "metadata": {},
   "source": [
    "<br>"
   ]
  },
  {
   "cell_type": "markdown",
   "metadata": {},
   "source": [
    "## Solution to Adventure 1-3"
   ]
  },
  {
   "cell_type": "code",
   "execution_count": null,
   "metadata": {},
   "outputs": [],
   "source": [
    "#########################################################\n",
    "##################     Functions 1    ###################\n",
    "#########################################################\n",
    "#                                                       #\n",
    "# Directions:                                           #\n",
    "#       - Fork repl to yourLastNameAdv1-3               #\n",
    "#       - Read ALL comments                             #\n",
    "#       - Complete the necessary missing code.          #\n",
    "#                                                       #\n",
    "# Steps:                                                #\n",
    "#       - 1. Documentation Comments                     #\n",
    "#  *New - 2. Create Functions for:                      #\n",
    "#              a. Splash Screen                         #\n",
    "#              b. Welcome Message                       #\n",
    "#              c. Call Splash function                  #\n",
    "#              d. Call Welcome function                 #\n",
    "#       - 3. Get User Input                             #\n",
    "#       - 4. Display user information                   #\n",
    "#                                                       #\n",
    "#########################################################\n",
    "\n",
    "##################################\n",
    "#                                #\n",
    "# 1. Documentation comments:     #\n",
    "#         a. Name                #\n",
    "#         b. Date                #\n",
    "#         c. Description         #\n",
    "#                                #\n",
    "##################################\n",
    "#  Ernie Drumm, 9/1/2020\n",
    "#  Description: \n",
    "#               -Adventure 1-3\n",
    "#               -Create functions\n",
    "#               -Call functions\n",
    "#               -Add arguments to functions \n",
    "#               -return results from functions\n",
    "\n",
    "\n",
    "##################################################\n",
    "#                                                #\n",
    "# 2a. Splash Function                            #\n",
    "#         - Create pSplash function:             #\n",
    "#             def pSplash():                     #\n",
    "#         - Within the function:                 #\n",
    "#             - print 10 blank lines.            #\n",
    "#             - print a \"splash\" message to      #\n",
    "#                 welcome user to the adventure. #\n",
    "#             - print 3 blank lines.             #\n",
    "#                                                #\n",
    "##################################################\n",
    "def pSplash():\n",
    "  print(\"\\n\" * 10)\n",
    "  print(\">>>>>>>>>>>>>>>>>>>> Welcome to the Awesome Adventure! <<<<<<<<<<<<<<<<<<<<\")\n",
    "  print(\"\\n\" * 3)\n",
    "\n",
    "\n",
    "##################################################\n",
    "#                                                #\n",
    "# 2b. Welcome Function                           #\n",
    "#         - Create pWelcome function:            #\n",
    "#             def pWelcome():                    #\n",
    "#         - Within the function:                 #\n",
    "#             - print app name and version       #\n",
    "#             - print friendly welcome message.  #\n",
    "#             - Add a little creativity!         #\n",
    "#                                                #\n",
    "##################################################\n",
    "def pWelcome():\n",
    "  print(\"------------- > Adventure V1-3!\")\n",
    "  print(\"\\n\" * 2)\n",
    "  print(\"The adventure starts by gathering some basic information.\")\n",
    "  print()\n",
    "  print(\"We need to know your name, title, level, and hit points!\")\n",
    "  print()\n",
    "  print(\"This is REQUIRED to ensure you are ready for this adventure!\\n\")\n",
    "\n",
    "\n",
    "##############################################\n",
    "#                                            #\n",
    "# 2c. Call Splash Function                   #\n",
    "#                                            #\n",
    "##############################################\n",
    "pSplash()\n",
    "\n",
    "\n",
    "##############################################\n",
    "#                                            #\n",
    "# 2d. Call Welcome Function                  #\n",
    "#                                            #\n",
    "##############################################\n",
    "pWelcome()\n",
    "\n",
    "\n",
    "#############################################\n",
    "#                                           #\n",
    "# 3. Get User Input                         #\n",
    "#         a. Player Name                    #\n",
    "#         b. Player Title                   #\n",
    "#         c. Player Level                   #\n",
    "#         d. Player Hit Points              #\n",
    "#                                           #\n",
    "#############################################\n",
    "plrName = input(\"What is your first name? \")\n",
    "plrTitle = input(\"what is your title: \")\n",
    "plrLevel = input(\"What is your level? \")\n",
    "plrHP = input(\"What is your HP? \")\n",
    "\n",
    "#############################################\n",
    "#                                           #\n",
    "# 4. Display User Information               #\n",
    "#         a. Multiple print() messages      #\n",
    "#         b. Friendly formatted             #\n",
    "#         c. Include:                       #\n",
    "#                -Player Name               #\n",
    "#                -Player title              #\n",
    "#                -Player Level              #\n",
    "#                -Player Hit Points         #\n",
    "#                                           #\n",
    "#############################################\n",
    "print(\"Welcome,\", plrTitle, plrName )\n",
    "print()\n",
    "print(\"Your are level\", plrLevel, \"with\", plrHP, \"hit points.\")\n",
    "print()\n",
    "print(\"Looking forward to our adventure together\" , plrName + \"!\\n\")"
   ]
  },
  {
   "cell_type": "markdown",
   "metadata": {},
   "source": [
    "<br>"
   ]
  },
  {
   "cell_type": "markdown",
   "metadata": {},
   "source": [
    "<hr>"
   ]
  },
  {
   "cell_type": "markdown",
   "metadata": {},
   "source": [
    "<br>"
   ]
  },
  {
   "cell_type": "markdown",
   "metadata": {},
   "source": [
    "# Adventure 1-4 (functions 2)\n",
    "\n",
    "    - Adventure 1-4\n",
    "    - Directions\n",
    "    - Steps\n",
    "         1. Documentation Comments\n",
    "         2. Use functions for:\n",
    "               a. pSplash screen\n",
    "               b. pWelcome Message\n",
    "         3. Get User Input\n",
    "    - NEW Steps\n",
    "         4. Create function to Display User Information     \n",
    "               a. Create pResults function with four arguments\n",
    "               b. Call pResults function with four arguments       "
   ]
  },
  {
   "cell_type": "markdown",
   "metadata": {},
   "source": [
    "## Directions:\n",
    "\n",
    "### - Fork repl and save as 'Adventure1-4' \n",
    "### - Create a function for printing the user information\n",
    "### - Pass the four (4) user entered information as arguments.\n",
    "### - Call the pResults function"
   ]
  },
  {
   "cell_type": "markdown",
   "metadata": {},
   "source": [
    "## 1-4.4a. Create pResults function with four arguments."
   ]
  },
  {
   "cell_type": "code",
   "execution_count": null,
   "metadata": {},
   "outputs": [],
   "source": [
    "#####################################################\n",
    "#                                                   #\n",
    "# 4a. Create pResults function                      #\n",
    "#     Add arguments to pResults function            #\n",
    "#                                                   #\n",
    "#  def pResults(plrName, plrTitle, plrLevel, plrHP) #\n",
    "#                                                   #\n",
    "# Ensure the following:                             #\n",
    "#     - Multiple print() messages                   #\n",
    "#     - Include printig information for:            #\n",
    "#         pName, pTitle, pLevel, and pHP            #\n",
    "#                                                   #\n",
    "#####################################################\n",
    "def pResults(plrName, plrTitle, plrLevel, plrHP):\n",
    "  print(\"Welcome,\", plrTitle, plrName)\n",
    "  print()\n",
    "  print(\"Your are level\", plrLevel, \"with\", plrHP, \"hit points.\")\n",
    "  print()\n",
    "  print(\"Looking forward to our adventure together\" , plrName + \"!\\n\")"
   ]
  },
  {
   "cell_type": "markdown",
   "metadata": {},
   "source": [
    "## 1-4.4b. Call pResults function with four arguments "
   ]
  },
  {
   "cell_type": "code",
   "execution_count": null,
   "metadata": {},
   "outputs": [],
   "source": [
    "##############################################\n",
    "#                                            #\n",
    "# 4c. Call the pResults function             #\n",
    "#                                            #\n",
    "#      - Pass in the four pieces of          #\n",
    "#         information we received from       #\n",
    "#         User Input as function arguments.  #\n",
    "#                                            #\n",
    "#         plrName, plrTitle, plrLevel, plrHP #\n",
    "#                                            #\n",
    "##############################################\n",
    "pResults(plrName, plrTitle, plrLevel, plrHP)"
   ]
  },
  {
   "cell_type": "markdown",
   "metadata": {},
   "source": [
    "<br>"
   ]
  },
  {
   "cell_type": "markdown",
   "metadata": {},
   "source": [
    "<hr>"
   ]
  },
  {
   "cell_type": "markdown",
   "metadata": {},
   "source": [
    "<br>"
   ]
  },
  {
   "cell_type": "markdown",
   "metadata": {},
   "source": [
    "# Adventure 1-5 (functions 3)\n",
    "\n",
    "    - Adventure 1-5\n",
    "    - Directions\n",
    "    - Steps\n",
    "         1. Documentation Comments\n",
    "         2. Use functions for:\n",
    "               a. pSplash screen\n",
    "               b. pWelcome Message\n",
    "         3. Get User Input\n",
    "         4. Use function to Display User Information     \n",
    "               a. pResults\n",
    "    - NEW Steps\n",
    "         5. Use functions to clean up code.\n",
    "               a. Create file called Messages.py\n",
    "               b. MOve all print function to Messages.py\n",
    "               c. Use from statement to import Messages.py file and functions\n",
    "               d. Call pSplash() function\n",
    "               e. Call pWelcome() function\n",
    "               f. Call pResults() function\n",
    "               \n",
    "    - Solution  "
   ]
  },
  {
   "cell_type": "markdown",
   "metadata": {},
   "source": [
    "## Directions:\n",
    "\n",
    "### - Fork repl and save as 'Adventure1-5' \n",
    "### - Create a file called Messages.py  \n",
    "### - Move pSplash, pWelcome, and pResults to Messages.py file\n",
    "### - import functions into main.py file  \n",
    "### - Call the sSplash, pWelcome, and pResults functions."
   ]
  },
  {
   "cell_type": "markdown",
   "metadata": {},
   "source": [
    "<br>"
   ]
  },
  {
   "cell_type": "markdown",
   "metadata": {},
   "source": [
    "## Solution to Adventure 1-5"
   ]
  },
  {
   "cell_type": "markdown",
   "metadata": {},
   "source": [
    "main.py"
   ]
  },
  {
   "cell_type": "code",
   "execution_count": null,
   "metadata": {},
   "outputs": [],
   "source": [
    "# main.py\n",
    "\n",
    "#  Ernie Drumm, 9/1/2020\n",
    "#  Description: \n",
    "#               -Adventure 1-5\n",
    "#               -Create functions\n",
    "#               -Call functions\n",
    "#               -Add arguments to functions \n",
    "#               -return results from functions\n",
    "#               -Using external files for functions\n",
    "\n",
    "# 5c. Import Messages.py file and functions  \n",
    "from Messages import pSplash, pWelcome, pResults\n",
    "\n",
    "# 5d. Call pSplash Function                  \n",
    "pSplash()\n",
    "# 5e. Call Welcome Function                  \n",
    "pWelcome()\n",
    "\n",
    "# 3. Get User Input                         \n",
    "plrName = input(\"What is your first name? \")\n",
    "plrTitle = input(\"what is your title: \")\n",
    "plrLevel = input(\"What is your level? \")\n",
    "plrHP = input(\"What is your HP? \")\n",
    "\n",
    "# 5f. Call the pResults function            \n",
    "pResults(plrName, plrTitle, plrLevel, plrHP)"
   ]
  },
  {
   "cell_type": "markdown",
   "metadata": {},
   "source": [
    "Messages.py"
   ]
  },
  {
   "cell_type": "code",
   "execution_count": null,
   "metadata": {},
   "outputs": [],
   "source": [
    "# Messages.py\n",
    "\n",
    "#  5a. Create file called Messages.py  \n",
    "#      This is the file.\n",
    "#  5b. Move all print functions\n",
    "#      Below is all the print functions.\n",
    "\n",
    "\n",
    "##################################################\n",
    "#                                                #\n",
    "# 2a. Splash Function                            #\n",
    "#                                                #\n",
    "##################################################\n",
    "def pSplash():\n",
    "  print(\"\\n\" * 10)\n",
    "  print(\">>>>>>>>>>>>>>>>>>>> Welcome to the Awesome Adventure! <<<<<<<<<<<<<<<<<<<<\")\n",
    "  print(\"\\n\" * 3)\n",
    "\n",
    "\n",
    "\n",
    "##################################################\n",
    "#                                                #\n",
    "# 2b. Welcome Function                           #\n",
    "#                                                #\n",
    "##################################################\n",
    "def pWelcome():\n",
    "  print(\"------------- > Adventure V1-3!\")\n",
    "  print(\"\\n\" * 2)\n",
    "  print(\"The adventure starts by gathering some basic information.\")\n",
    "  print()\n",
    "  print(\"We need to know your name, title, level, and hit points!\")\n",
    "  print()\n",
    "  print(\"This is REQUIRED to ensure you are ready for this adventure!\\n\")\n",
    "\n",
    "\n",
    "#############################################\n",
    "#                                           #\n",
    "# 4a. Create pResults function              #\n",
    "# 4b. Add arguments to pResults function    #\n",
    "#                                           #\n",
    "#  def pResults(pName, pTitle, pLevel, pHP) #\n",
    "#                                           #\n",
    "#                                           #\n",
    "# Ensure the following:                     #\n",
    "#     - Multiple print() messages           #\n",
    "#     - Include printig information for:    #\n",
    "#         pName, pTitle, pLevel, and pHP    #\n",
    "#                                           #\n",
    "#############################################\n",
    "def pResults(plrName, plrTitle, plrLevel, plrHP):\n",
    "  print(\"Welcome,\", plrTitle, plrName )\n",
    "  print()\n",
    "  print(\"Your are level\", plrLevel, \"with\", plrHP, \"hit points.\")\n",
    "  print()\n",
    "  print(\"Looking forward to our adventure together\" , plrName + \"!\\n\")"
   ]
  },
  {
   "cell_type": "markdown",
   "metadata": {},
   "source": [
    "<br>"
   ]
  },
  {
   "cell_type": "markdown",
   "metadata": {},
   "source": [
    "<hr>"
   ]
  },
  {
   "cell_type": "markdown",
   "metadata": {},
   "source": [
    "<br>"
   ]
  }
 ],
 "metadata": {
  "kernelspec": {
   "display_name": "Python 3",
   "language": "python",
   "name": "python3"
  },
  "language_info": {
   "codemirror_mode": {
    "name": "ipython",
    "version": 3
   },
   "file_extension": ".py",
   "mimetype": "text/x-python",
   "name": "python",
   "nbconvert_exporter": "python",
   "pygments_lexer": "ipython3",
   "version": "3.7.3"
  }
 },
 "nbformat": 4,
 "nbformat_minor": 2
}
