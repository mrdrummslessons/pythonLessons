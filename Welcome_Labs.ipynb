{
 "cells": [
  {
   "cell_type": "markdown",
   "metadata": {},
   "source": [
    "# Welcome Labs\n",
    "\n",
    "- Welcome 1\n",
    "- Welcome 2"
   ]
  },
  {
   "cell_type": "markdown",
   "metadata": {},
   "source": [
    "<hr>"
   ]
  },
  {
   "cell_type": "markdown",
   "metadata": {},
   "source": [
    "# Welcome 1"
   ]
  },
  {
   "cell_type": "markdown",
   "metadata": {},
   "source": [
    "#### Objectives:  (4 parts)\n",
    "\n",
    "#### - Navigate RepL.it \n",
    "#### - Demonstrate usage of python foundamentals.\n",
    "    - Comments\n",
    "    - print() function\n",
    "    - input() function\n",
    "    - Strings, Numbers\n",
    "    - print strings and numbers\n",
    "\n",
    "Welcome1-1 = drummCSP"
   ]
  },
  {
   "cell_type": "markdown",
   "metadata": {},
   "source": [
    "## 1 - Comments"
   ]
  },
  {
   "cell_type": "markdown",
   "metadata": {},
   "source": [
    "#### Comments: Starting at line 1.   Add comments to give basic information about your app.  Include the following information:\n",
    "\n",
    "- Name\n",
    "- Date\n",
    "- Description"
   ]
  },
  {
   "cell_type": "code",
   "execution_count": null,
   "metadata": {},
   "outputs": [],
   "source": [
    "##################################\n",
    "##                              ##\n",
    "##  Ernie Drumm, 9/1/2020       ##\n",
    "##                              ##\n",
    "##################################\n",
    "\n",
    "# Description:  This is a introduction / welcome app.\n"
   ]
  },
  {
   "cell_type": "markdown",
   "metadata": {},
   "source": [
    "### 2 - Welcome Message"
   ]
  },
  {
   "cell_type": "markdown",
   "metadata": {},
   "source": [
    "#### Create a welcome message for the user.  This helps the user understand what the app is all about. "
   ]
  },
  {
   "cell_type": "code",
   "execution_count": 1,
   "metadata": {},
   "outputs": [
    {
     "name": "stdout",
     "output_type": "stream",
     "text": [
      "\n",
      "Welcome to my awesome app\n",
      "\n"
     ]
    }
   ],
   "source": [
    "print(\"\\nWelcome to my awesome app\\n\")"
   ]
  },
  {
   "cell_type": "markdown",
   "metadata": {},
   "source": [
    "## 3 - User Input"
   ]
  },
  {
   "cell_type": "markdown",
   "metadata": {},
   "source": [
    "### Get four (4) pieces of Input from the user. \n",
    "\n",
    "#### 2x String data\n",
    "#### 2x Numeric data"
   ]
  },
  {
   "cell_type": "code",
   "execution_count": 2,
   "metadata": {},
   "outputs": [
    {
     "name": "stdout",
     "output_type": "stream",
     "text": [
      "What is your first name? Dave\n",
      "What is your title? Slayer\n",
      "What is your level? 3\n",
      "What is your HP? 65\n"
     ]
    }
   ],
   "source": [
    "usrName = input(\"What is your first name? \")\n",
    "usrTitle = input(\"What is your title? \")\n",
    "usrLevel = input(\"What is your level? \")\n",
    "usrHP = input(\"What is your HP? \")"
   ]
  },
  {
   "cell_type": "markdown",
   "metadata": {},
   "source": [
    "## 4 - Display Information\n",
    "\n",
    "    - Display all data received from user input."
   ]
  },
  {
   "cell_type": "code",
   "execution_count": 6,
   "metadata": {},
   "outputs": [
    {
     "name": "stdout",
     "output_type": "stream",
     "text": [
      "What is your first name? Dave\n",
      "What is your title? Slayer\n",
      "What is your HP? 65\n",
      "Welcome,  Slayer   Dave\n",
      "\n",
      "You said your HP is : 65\n"
     ]
    }
   ],
   "source": [
    "print(\"Welcome, \", usrTitle, \" \", usrName )\n",
    "print()\n",
    "print(\"You said your HP is :\", usrHP)"
   ]
  },
  {
   "cell_type": "markdown",
   "metadata": {},
   "source": [
    "## Solution to Welcome 1-1"
   ]
  },
  {
   "cell_type": "code",
   "execution_count": 12,
   "metadata": {},
   "outputs": [
    {
     "name": "stdout",
     "output_type": "stream",
     "text": [
      "Welcome to my awesome app\n",
      "What is your first name? Dave\n",
      "what is your title? Slayer\n",
      "What is your level? 4\n",
      "What is your HP? 65\n",
      "\n",
      "Welcome,  Slayer   Dave\n",
      "\n",
      "You have 65 HP at level 4\n"
     ]
    }
   ],
   "source": [
    "##################################\n",
    "##                              ##\n",
    "##  Ernie Drumm, 9/1/2020       ##\n",
    "##                              ##\n",
    "##################################\n",
    "\n",
    "# Description:  This is a introduction / welcome app.\n",
    "\n",
    "# Display a title\n",
    "print(\"Welcome to my awesome app\")\n",
    "\n",
    "# get input from the user\n",
    "#  1. Name\n",
    "#  2. Title\n",
    "#  3. Level\n",
    "#  4. HP\n",
    "usrName = input(\"What is your first name? \")\n",
    "usrTitle = input(\"what is your title? \")\n",
    "usrLevel = input(\"What is your level? \")\n",
    "usrHP = input(\"What is your HP? \")\n",
    "\n",
    "# Display the information\n",
    "print(\"\\nWelcome, \", usrTitle, \" \", usrName )\n",
    "print()\n",
    "print(\"You have\", usrHP, \"HP at level\", usrLevel)"
   ]
  },
  {
   "cell_type": "markdown",
   "metadata": {},
   "source": [
    "<hr>"
   ]
  },
  {
   "cell_type": "markdown",
   "metadata": {},
   "source": [
    "# Welcome 2"
   ]
  },
  {
   "cell_type": "markdown",
   "metadata": {},
   "source": [
    "#### Objectives: \n",
    "\n",
    "#### - Update Welcome1 repl \n",
    "#### - Demonstrate usage of python foundamentals by creating a function and call it print all user input received.\n",
    "    - Functions\n",
    "\n",
    "Welcome1-2 = drummCSP"
   ]
  },
  {
   "cell_type": "markdown",
   "metadata": {},
   "source": [
    "## 1 Create Results.py\n",
    "\n",
    "##### Within your repl, add a file\n",
    "##### Name the file 'Results.py'"
   ]
  },
  {
   "cell_type": "code",
   "execution_count": null,
   "metadata": {},
   "outputs": [],
   "source": [
    "# Results.py file\n",
    "# myResults function that accepts four arguments.\n",
    "def myResults(usrName, usrTitle, usrLevel, usrHP):\n",
    "  print(\"Welcome, \", usrTitle, \" \", usrName )\n",
    "  print()\n",
    "  print(\"You have\", usrHP, \"HP at level\", usrLevel)\n",
    "  print()\n",
    "  print(\"enjoy!\")"
   ]
  },
  {
   "cell_type": "markdown",
   "metadata": {},
   "source": [
    "## 2 Import\n",
    "\n",
    "Once the Results.py file is created and myResults function defined, the file needs to be linked to the main.py file.  This is accomplished by using the 'from' and 'import' statement below.  \n",
    "\n",
    "In your main.py file, at the top, include the from statement. "
   ]
  },
  {
   "cell_type": "code",
   "execution_count": null,
   "metadata": {},
   "outputs": [],
   "source": [
    "from Results import myResults"
   ]
  },
  {
   "cell_type": "markdown",
   "metadata": {},
   "source": [
    "## 3 - Call myResults function\n",
    "\n",
    "After the Results file and function are linked to the main.py file, the myResults function can be call.  This is accomplished by simply using the word and including the required arguments."
   ]
  },
  {
   "cell_type": "code",
   "execution_count": null,
   "metadata": {},
   "outputs": [],
   "source": [
    "myResults(usrName, usrTitle, usrLevel, usrHP)"
   ]
  },
  {
   "cell_type": "markdown",
   "metadata": {},
   "source": [
    "## Solution to Welcome 1-2"
   ]
  },
  {
   "cell_type": "code",
   "execution_count": null,
   "metadata": {},
   "outputs": [],
   "source": [
    "##################################\n",
    "##                              ##\n",
    "##  Ernie Drumm, 9/1/2020       ##\n",
    "##                              ##\n",
    "##################################\n",
    "\n",
    "# Description:  This is the main.py file introduction / welcome app.\n",
    "\n",
    "from Results import myResults \n",
    "\n",
    "# Display a title\n",
    "print(\"Welcome to my awesome app\")\n",
    "\n",
    "# get input from the user\n",
    "#  1. Name\n",
    "#  2. Title\n",
    "#  3. Level\n",
    "#  4. HP\n",
    "usrName = input(\"What is your first name? \")\n",
    "usrTitle = input(\"what is your title? \")\n",
    "usrLevel = input(\"What is your level? \")\n",
    "usrHP = input(\"What is your HP? \")\n",
    "\n",
    "myResults(usrName, usrTitle, usrLevel, usrHP)\n"
   ]
  },
  {
   "cell_type": "code",
   "execution_count": null,
   "metadata": {},
   "outputs": [],
   "source": [
    "# This is the Results.py file\n",
    "\n",
    "# myResults function\n",
    "def myResults(usrName, usrTitle, usrLevel, usrHP):\n",
    "  print(\"Welcome, \", usrTitle, \" \", usrName )\n",
    "  print()\n",
    "  print(\"You have\", usrHP, \"HP at level\", usrLevel)\n",
    "  print()\n",
    "  print(\"enjoy!\")"
   ]
  }
 ],
 "metadata": {
  "kernelspec": {
   "display_name": "Python 3",
   "language": "python",
   "name": "python3"
  },
  "language_info": {
   "codemirror_mode": {
    "name": "ipython",
    "version": 3
   },
   "file_extension": ".py",
   "mimetype": "text/x-python",
   "name": "python",
   "nbconvert_exporter": "python",
   "pygments_lexer": "ipython3",
   "version": "3.7.3"
  }
 },
 "nbformat": 4,
 "nbformat_minor": 2
}
