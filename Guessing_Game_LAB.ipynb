{
 "cells": [
  {
   "cell_type": "markdown",
   "metadata": {},
   "source": [
    "# Guessing Game Lab\n",
    "\n",
    "### Guessing Game Content Covered \n",
    "    - import module random\n",
    "    - Comments\n",
    "    - Welcome message\n",
    "    - User Input\n",
    "    - import a function\n",
    "    - Exception Handling \n",
    "    - randint(1,30)\n",
    "    - If Statements\n",
    "    - elif statements\n",
    "    - else statements\n",
    "    - while loop\n",
    "    - while 'break'\n",
    "    - Display Information\n",
    "    - Solution\n",
    "    "
   ]
  },
  {
   "cell_type": "markdown",
   "metadata": {},
   "source": [
    "<hr>"
   ]
  },
  {
   "cell_type": "markdown",
   "metadata": {},
   "source": [
    "### Objectives\n",
    "    - Setup\n",
    "        - 1. Create a new repl\n",
    "        - 2. Call the repl 'yourLastNameGuessGame'\n",
    "        \n",
    "    - Import random module\n",
    "        - 1. from statement to import the random module\n",
    "        \n",
    "    - Comments\n",
    "        - 1. Include introduction comments (Name, Date, App Description)\n",
    "        \n",
    "    - Welcome Message\n",
    "        - 1. print a message to welcome user to the game.\n",
    "        - 2. print a message explaining the rules of the game.\n",
    "        \n",
    "    - User Input / Import Function / Exception Handling\n",
    "        - 1. Ask user for LOW start number\n",
    "        - 2. Ask user for HIGH end number\n",
    "        - 3. Import exception handling function\n",
    "        - 4. Handle ValueError exceptions from user input\n",
    "\n",
    "    - Get a random number from a range of numbers using randint() function\n",
    "        - 1. Create a variable called 'theNumber' \n",
    "        - 2. Save results of: randint(lowNumber, highNumber)\n",
    "\n",
    "    - Initialize variable to zero\n",
    "        - 1. Create a variable to track guesses\n",
    "        - 2. Set the variable = 0\n",
    "    \n",
    "    - While user still have guesses let them keep guessing\n",
    "        - 1. Keep track of how many guesses.\n",
    "        - 2. Use a While loop OR FOR loop\n",
    "        - 3. Let the user know if their guess was high or low\n",
    "        - 4. If the user guesses the number let them know and end the game.\n",
    "        - 5. End the game if they run out of guesses. Let them know the number.\n",
    "\n",
    "    - Display message for Winning or Losing\n",
    "        - 1. Print how many attempts they made.\n",
    "        - 2. Print the correct number.\n",
    "        \n",
    "    - Instructions all in one file."
   ]
  },
  {
   "cell_type": "markdown",
   "metadata": {},
   "source": [
    "<hr>"
   ]
  },
  {
   "cell_type": "markdown",
   "metadata": {},
   "source": [
    "# Setup\n",
    "\n",
    "The Guessing Game app will require you to create a new RepL.  After you create the new repl make sure to share it with me!"
   ]
  },
  {
   "cell_type": "markdown",
   "metadata": {},
   "source": [
    "       1. Create a new repl.\n",
    "       2. Name it 'yourLastNameGuessGame'"
   ]
  },
  {
   "cell_type": "markdown",
   "metadata": {},
   "source": [
    "<hr>"
   ]
  },
  {
   "cell_type": "markdown",
   "metadata": {},
   "source": [
    "# Import random module\n",
    "\n",
    "We want to pick a random number from a range of two numbers.  Python has a function to do this called randint().  In order for us to use this function we must import the random module. Make sure the 'from' is located at the TOP of you code."
   ]
  },
  {
   "cell_type": "code",
   "execution_count": null,
   "metadata": {},
   "outputs": [],
   "source": [
    "from random import *"
   ]
  },
  {
   "cell_type": "markdown",
   "metadata": {},
   "source": [
    "<hr>"
   ]
  },
  {
   "cell_type": "markdown",
   "metadata": {},
   "source": [
    "# Comments\n",
    "\n",
    "Please include introduction comments at the beginning of your app.  "
   ]
  },
  {
   "cell_type": "markdown",
   "metadata": {},
   "source": [
    "        1.  Name \n",
    "        2.  Date\n",
    "        3.  App Description"
   ]
  },
  {
   "cell_type": "code",
   "execution_count": null,
   "metadata": {},
   "outputs": [],
   "source": [
    "# Ernie Drumm, 10/1/2020\n",
    "#\n",
    "# Description: This is a guessing game app.  The user is asked to define the\n",
    "#  range for a random number.  Then the user will attempt to guess the number.\n",
    "#  Once the number is guessed the amount of attempts is printed as well as the \n",
    "#  number."
   ]
  },
  {
   "cell_type": "markdown",
   "metadata": {},
   "source": [
    "<hr>"
   ]
  },
  {
   "cell_type": "markdown",
   "metadata": {},
   "source": [
    "# Welcome Message\n",
    "\n",
    "Incude a friendly welcome message to let the user know about the app and what they are going to be asked."
   ]
  },
  {
   "cell_type": "code",
   "execution_count": null,
   "metadata": {},
   "outputs": [],
   "source": [
    "##############################################\n",
    "##                                          ##                           \n",
    "##    Welcome Message & Instructions        ##\n",
    "##                                          ##\n",
    "##############################################\n",
    "print(\"Welcome to the game ...\\n\")\n",
    "print(\"To play, please provide ....\")"
   ]
  },
  {
   "cell_type": "markdown",
   "metadata": {},
   "source": [
    "<hr>"
   ]
  },
  {
   "cell_type": "markdown",
   "metadata": {},
   "source": [
    "# User Input / Import a Function / Exception Handling\n",
    "\n",
    "For the game to work properly, we need to ask the user to provide two numbers in order for us to use the randing() function.  The first number from the user should be the LOW number in the range.  The second number is the HIGH number in the range."
   ]
  },
  {
   "cell_type": "code",
   "execution_count": null,
   "metadata": {},
   "outputs": [],
   "source": [
    "from myCalcs import getLowNumber   # Import the getLowNumber exception handling function..\n",
    "\n",
    "##############################################\n",
    "##                                          ##                           \n",
    "##    Ask for user input. VALIDATE!!        ##\n",
    "##                                          ##\n",
    "##############################################\n",
    "\n",
    "rangeLOW = getLowNumber()   # Call the getLowNumber function and save the results to rangeLOW\n"
   ]
  },
  {
   "cell_type": "code",
   "execution_count": null,
   "metadata": {},
   "outputs": [],
   "source": [
    "# myCalcs.py file contents..\n",
    "\n",
    "def getLowNumber():\n",
    "  while True:   # Creates a loop to give the user another chance to try again..\n",
    "    try:    \n",
    "      LowNum = int(input(\"What is the LOW number in the range? \"))   # ask user for LOW number\n",
    "      return(LowNum)\n",
    "    except ValueError:      # ValueError exception handling\n",
    "      print(\"Invalid number. PLease try again\")"
   ]
  },
  {
   "cell_type": "markdown",
   "metadata": {},
   "source": [
    "<hr>"
   ]
  },
  {
   "cell_type": "markdown",
   "metadata": {},
   "source": [
    "# Get a random number from a range of numbers using randint() function\n",
    "\n",
    "Use the randint() function to get a random integer from a range of integers provided by the user (i.e., LowNum, HighNum).  Save the results in a variable."
   ]
  },
  {
   "cell_type": "code",
   "execution_count": null,
   "metadata": {},
   "outputs": [],
   "source": [
    "# 1. Create a variable called 'theNumber' \n",
    "# 2. Save results of: randint(lowNumber, highNumber)\n",
    "\n",
    "theNumber = randint(LowNumber, HighNumber)"
   ]
  },
  {
   "cell_type": "markdown",
   "metadata": {},
   "source": [
    "<hr>"
   ]
  },
  {
   "cell_type": "markdown",
   "metadata": {},
   "source": [
    "# Initialize variable to '0'\n",
    "\n",
    "We need to keep track of how many guesses the user makes.  We can do this with a variable called 'guesses'.  Before we start counting guesses we need to re-set the count, so we set the varible 'guesses' to zero."
   ]
  },
  {
   "cell_type": "code",
   "execution_count": null,
   "metadata": {},
   "outputs": [],
   "source": [
    "guesses = 0 "
   ]
  },
  {
   "cell_type": "markdown",
   "metadata": {},
   "source": [
    "<hr>"
   ]
  },
  {
   "cell_type": "markdown",
   "metadata": {},
   "source": [
    "# While Loop / Break\n",
    "\n",
    "The 'while' loop helps us keep track of how many guesses the user makes.  It says, \"While guesses less than three\" we will keep trying to guess.  Notice within the while loop, each time we go through the loop we increase the guesses by the statement \"guesses = guesses + 1\".  Once the user makes three guesses the while loop will break, because 3 is NOT less than 3."
   ]
  },
  {
   "cell_type": "code",
   "execution_count": null,
   "metadata": {},
   "outputs": [],
   "source": [
    "#############################################################\n",
    "##                                                         ##                           \n",
    "##    -While loops as long as guesses are less than 3      ##\n",
    "##    -guesses should be checked for ValueErrors           ##\n",
    "##    -print message if the guess is less than the number  ##\n",
    "##    -print message if the guess is higher than the number##\n",
    "##    -print message if the guess is correct!              ##\n",
    "##    -'break' if the guess is correct.                    ##\n",
    "##                                                         ##\n",
    "#############################################################\n",
    "while guesses < 3:        # Using the while loop, before the loop starts we set guesses = 0\n",
    " guess = validGuess()     # validGuess() is the Exception Handling function\n",
    " guesses = guesses + 1    # Keep track of how many guesses\n",
    " if guess < theNumber:    # 'theNumber' is the random number generated from randint() function\n",
    "   print(\"Your guess is too low\")  # let the user know their guess was too low\n",
    " elif guess > theNumber:\n",
    "   print(\"Your guess is too high\") # let the user know their guess was too high\n",
    " elif guess == theNumber:\n",
    "   print(\"You Guessed the Number!\" + str(theNumber))\n",
    "   break                  # If the user guesses the number, BREAK out of the while loop.\n",
    "\n",
    "    # End the game if the user misses 3 guesses: 'while guesses < 3:'"
   ]
  },
  {
   "cell_type": "markdown",
   "metadata": {},
   "source": [
    "<hr>"
   ]
  },
  {
   "cell_type": "markdown",
   "metadata": {},
   "source": [
    "# Display Information for correct guess\n",
    "\n",
    "After the 'while' loop exits we can test to tell wether the user guessed the correct number or not.  We want to display a friendly message reguardless of the results. We can tailor each message sepparate occasion."
   ]
  },
  {
   "cell_type": "code",
   "execution_count": null,
   "metadata": {},
   "outputs": [],
   "source": [
    "#############################################################\n",
    "##                                                         ##                           \n",
    "##    -if the guess was correct print a nice message       ##\n",
    "##    -include the number guessed                          ##\n",
    "##    -print the number of guesses made.                   ##\n",
    "##                                                         ##\n",
    "#############################################################\n",
    "if guess == theNumber:\n",
    " print(\"Great going! You made \" + str(guesses) + \"guesses to get the number \" + str(theNumber))"
   ]
  },
  {
   "cell_type": "markdown",
   "metadata": {},
   "source": [
    "# Display message for Winning or Losing\n",
    "\n",
    "If the user did not guess the number print a friendly message letting them know what the random number was and how many guesses they made."
   ]
  },
  {
   "cell_type": "code",
   "execution_count": null,
   "metadata": {},
   "outputs": [],
   "source": [
    "#############################################################\n",
    "##                                                         ##                           \n",
    "##    -if the guess was NOT correct print a nice message   ##\n",
    "##    -include the number that was not guessed!            ##\n",
    "##    -print the number of attempts made.                  ##\n",
    "##                                                         ##\n",
    "#############################################################\n",
    "if guess != theNumber:\n",
    " print(\"Nice try! You made \" + str(guesses) + \"guesses to get the number \" + str(theNumber))"
   ]
  },
  {
   "cell_type": "code",
   "execution_count": null,
   "metadata": {},
   "outputs": [],
   "source": [
    "# Results.py file\n",
    "# myResults function that accepts four arguments.\n",
    "def myResults(usrName, usrTitle, usrLevel, usrHP):\n",
    "  print(\"Welcome, \", usrTitle, \" \", usrName )\n",
    "  print()\n",
    "  print(\"You have\", usrHP, \"HP at level\", usrLevel)\n",
    "  print()\n",
    "  print(\"enjoy!\")"
   ]
  },
  {
   "cell_type": "markdown",
   "metadata": {},
   "source": [
    "<hr>"
   ]
  },
  {
   "cell_type": "markdown",
   "metadata": {},
   "source": [
    "# Instructions all in one file."
   ]
  },
  {
   "cell_type": "code",
   "execution_count": null,
   "metadata": {},
   "outputs": [],
   "source": [
    "############################################################################################\n",
    "##                                                                                        ##\n",
    "##   Guessing Game Lab                                                                    ##\n",
    "##                                                                                        ##\n",
    "##   Content Covered:                                                                     ##\n",
    "##        - import module random\n",
    "##        - Comments\n",
    "##        - Welcome message\n",
    "##        - User Input\n",
    "##        - import a function\n",
    "##        - Exception Handling \n",
    "##        - randint(1,30)\n",
    "##        - If Statements\n",
    "##        - elif statements\n",
    "##        - else statements\n",
    "##        - while loop\n",
    "##        - while 'break'\n",
    "##        - Display Information\n",
    "##        - Solution                                                      \n",
    "##                                                                                        \n",
    "##  Coding Objectives:                                                                    \n",
    "##        - Setup\n",
    "##           - 1. Create a new repl\n",
    "##           - 2. Call the repl 'yourLastNameGuessGame'\n",
    "##        \n",
    "##        - Import random module\n",
    "##           - 1. from statement to import the random module\n",
    "##        \n",
    "##        - Comments\n",
    "##           - 1. Include introduction comments (Name, Date, App Description)\n",
    "##       \n",
    "##        - Welcome Message\n",
    "##           - 1. print a message to welcome user to the game.\n",
    "##           - 2. print a message explaining the rules of the game.\n",
    "##        \n",
    "##        - User Input / Import Function / Exception Handling\n",
    "##           - 1. Ask user for LOW start number\n",
    "##           - 2. Ask user for HIGH end number\n",
    "##           - 3. Import exception handling function\n",
    "##           - 4. Handle ValueError exceptions from user input\n",
    "##\n",
    "##        - Get a random number from a range of numbers using randint() function\n",
    "##           - 1. Create a variable called 'theNumber' \n",
    "##           - 2. Save results of: randint(lowNumber, highNumber)\n",
    "##\n",
    "##        - Initialize variable to zero\n",
    "##           - 1. Create a variable to track guesses\n",
    "##           - 2. Set the variable = 0\n",
    "##    \n",
    "##        - While user still have guesses let them keep guessing\n",
    "##           - 1. Keep track of how many guesses.\n",
    "##           - 2. Use a While loop OR FOR loop\n",
    "##           - 3. Let the user know if their guess was high or low\n",
    "##           - 4. If the user guesses the number let them know and end the game.\n",
    "##           - 5. End the game if they run out of guesses. Let them know the number.\n",
    "##\n",
    "##        - Display message for Winning or Losing\n",
    "##           - 1. Print how many attempts they made.\n",
    "##           - 2. Print the correct number.\n",
    "##        \n",
    "##        - Instructions all in one file.                                                 ##\n",
    "##                                                                                        ##\n",
    "############################################################################################\n",
    " \n",
    "# import random\n",
    "from random import *\n",
    " \n",
    "##############################################\n",
    "##                                          ##                           \n",
    "##    Welcome Message & Instructions        ##\n",
    "##                                          ##\n",
    "##############################################\n",
    " \n",
    "##############################################\n",
    "##                                          ##                           \n",
    "##    Ask for user input. VALIDATE!!        ##\n",
    "##                                          ##\n",
    "##############################################\n",
    " \n",
    "##############################################\n",
    "##                                          ##                           \n",
    "##    -Use the randint() function to create ##\n",
    "##      a random number.                    ##\n",
    "##    -Save the result to the variable      ##\n",
    "##      'theNumber'                         ##\n",
    "##                                          ##\n",
    "##############################################\n",
    "theNumber = randint(number1, number2)\n",
    " \n",
    "##############################################\n",
    "##                                          ##                           \n",
    "##    Initialize the variable 'guesses'     ##\n",
    "##      to Zero                             ##\n",
    "##                                          ##\n",
    "##############################################\n",
    "guesses = 0 \n",
    " \n",
    "#############################################################\n",
    "##                                                         ##                           \n",
    "##    -While loops as long as guesses are less than 3      ##\n",
    "##    -guesses should be checked for ValueErrors           ##\n",
    "##    -print message if the guess is less than the number  ##\n",
    "##    -print message if the guess is higher than the number##\n",
    "##    -print message if the guess is correct!              ##\n",
    "##    -'break' if the guess is correct.                    ##\n",
    "##                                                         ##\n",
    "#############################################################\n",
    "while guesses < 3:\n",
    " guess = validGuess()\n",
    " guesses = guesses + 1\n",
    " if guess < theNumber:\n",
    "   print(\"Your guess is too low\")\n",
    " elif guess > theNumber:\n",
    "   print(\"Your guess is too high\")\n",
    " elif guess == theNumber:\n",
    "   print(\"You Guessed the Number!\" + str(theNumber))\n",
    "   break\n",
    "\n",
    "#############################################################\n",
    "##                                                         ##                           \n",
    "##    -if the guess was correct print a nice message       ##\n",
    "##    -include the number guessed                          ##\n",
    "##    -print the number of guesses made.                   ##\n",
    "##                                                         ##\n",
    "#############################################################\n",
    "if guess == theNumber:\n",
    " print()\n",
    " \n",
    "#############################################################\n",
    "##                                                         ##                           \n",
    "##    -if the guess was NOT correct print a nice message   ##\n",
    "##    -include the number that was not guessed!            ##\n",
    "##    -print the number of attempts made.                  ##\n",
    "##                                                         ##\n",
    "#############################################################"
   ]
  },
  {
   "cell_type": "markdown",
   "metadata": {},
   "source": [
    "<hr>"
   ]
  },
  {
   "cell_type": "markdown",
   "metadata": {},
   "source": [
    "Source: <a href=\"https://docs.google.com/document/d/1__A6O0pAtd1RvW4fdnrXbaRfvOQXr9nNNbYG6UtXTU8/edit\">Guessing_Game.pdf</a>"
   ]
  }
 ],
 "metadata": {
  "kernelspec": {
   "display_name": "Python 3",
   "language": "python",
   "name": "python3"
  },
  "language_info": {
   "codemirror_mode": {
    "name": "ipython",
    "version": 3
   },
   "file_extension": ".py",
   "mimetype": "text/x-python",
   "name": "python",
   "nbconvert_exporter": "python",
   "pygments_lexer": "ipython3",
   "version": "3.7.3"
  }
 },
 "nbformat": 4,
 "nbformat_minor": 2
}
